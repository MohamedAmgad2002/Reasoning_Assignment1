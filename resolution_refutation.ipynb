{
 "cells": [
  {
   "cell_type": "markdown",
   "metadata": {},
   "source": [
    "### Implementing Resolution Refutation for First-Order Logic (FOL) from Scratch\n",
    "\n",
    "In this notebook, we will be implementing the resolution refutation for First-Order Logic (FOL) from scratch. Resolution refutation is a powerful inference rule used in automated theorem proving, and FOL is a formalism used to express statements about objects in a domain and the relationships between them.\n",
    "\n",
    "We will start by defining the basic structures needed to represent FOL expressions, and then move on to the implementation of the resolution refutation itself. This will involve several steps, including Skolemization, conversion to conjunctive normal form (CNF), and the resolution process itself."
   ]
  },
  {
   "cell_type": "markdown",
   "metadata": {},
   "source": [
    "### Imports"
   ]
  },
  {
   "cell_type": "code",
   "execution_count": 1,
   "metadata": {},
   "outputs": [],
   "source": [
    "from Parse import CNFify\n",
    "from solve import resolution"
   ]
  },
  {
   "cell_type": "markdown",
   "metadata": {},
   "source": [
    "### Helping Functions"
   ]
  },
  {
   "cell_type": "code",
   "execution_count": 2,
   "metadata": {},
   "outputs": [],
   "source": [
    "def loadStatement(word: list, kb: list):\n",
    "    for i in word:\n",
    "        kb.append(i)\n",
    "    return kb\n",
    "\n",
    "def load_print(out: list, kb: list):\n",
    "    for i in out:\n",
    "        loadStatement(i, kb)\n",
    "    for i in kb:\n",
    "        print(i)"
   ]
  },
  {
   "cell_type": "markdown",
   "metadata": {},
   "source": [
    "### Q1:"
   ]
  },
  {
   "cell_type": "code",
   "execution_count": 3,
   "metadata": {},
   "outputs": [],
   "source": [
    "statement1 = \"ForAll(x, ((T(x)) => (~M(x))))\"\n",
    "statement2 = \"ForAll(x, (ForAll(y, (ForAll(z, ((M(x)) => (~M(y) & ~M(z))))))))\"\n",
    "statement3 = \"T(Arthur) => M(Carleton)\"\n",
    "statement4 = \"T(Bertram) => ~M(Bertram)\"\n",
    "statement5 = \"T(Carleton) => ~M(Carleton)\"\n",
    "statement6 = \"T(Arthur)\"\n",
    "statement7 = \"T(Bertram)\"\n",
    "prove1 = \"(~T(Carleton))\"\n",
    "prove2 = \"(~M(Arthur))\""
   ]
  },
  {
   "cell_type": "markdown",
   "metadata": {},
   "source": [
    "#### Convert to CNF"
   ]
  },
  {
   "cell_type": "code",
   "execution_count": 4,
   "metadata": {},
   "outputs": [
    {
     "name": "stdout",
     "output_type": "stream",
     "text": [
      "(~T(x) | ~M(x))\n",
      "(~M(x) | ~M(y))\n",
      "(~M(x) | ~M(z))\n",
      "(~T(Arthur) | M(Carleton))\n",
      "(~T(Bertram) | ~M(Bertram))\n",
      "(~T(Carleton) | ~M(Carleton))\n",
      "(T(Arthur))\n",
      "(T(Bertram))\n"
     ]
    }
   ],
   "source": [
    "x1 = CNFify(statement1)\n",
    "x2 = CNFify(statement2)\n",
    "x3 = CNFify(statement3)\n",
    "x4 = CNFify(statement4)\n",
    "x5 = CNFify(statement5)\n",
    "x6 = CNFify(statement6)\n",
    "x7 = CNFify(statement7)\n",
    "out = [x1, x2, x3, x4, x5, x6, x7]\n",
    "kb = []\n",
    "load_print(out, kb)"
   ]
  },
  {
   "cell_type": "markdown",
   "metadata": {},
   "source": [
    "#### Perform resolution"
   ]
  },
  {
   "cell_type": "code",
   "execution_count": 5,
   "metadata": {},
   "outputs": [
    {
     "name": "stdout",
     "output_type": "stream",
     "text": [
      "Pairing:  (T(Carleton)) and (~T(x1) | ~M(x1))\n",
      "Output:       (~M(Carleton))\n",
      "Pairing:  (~M(Carleton)) and (~T(Arthur) | M(Carleton))\n",
      "Output:       (~T(Arthur))\n",
      "Pairing:  (~T(Arthur)) and (T(Arthur))\n",
      "Output:       {}\n",
      "{}\n",
      "Pairing:  (M(Arthur)) and (~T(x1) | ~M(x1))\n",
      "Output:       (~T(Arthur))\n",
      "Pairing:  (~T(Arthur)) and (T(Arthur))\n",
      "Output:       {}\n",
      "{}\n"
     ]
    }
   ],
   "source": [
    "if resolution(kb, prove1, 200):\n",
    "    print('{}')\n",
    "else:\n",
    "    print('cannot decide')\n",
    "if resolution(kb, prove2, 200):\n",
    "    print('{}')\n",
    "else:\n",
    "    print('cannot decide')"
   ]
  },
  {
   "cell_type": "markdown",
   "metadata": {},
   "source": [
    "### Q2"
   ]
  },
  {
   "cell_type": "code",
   "execution_count": 6,
   "metadata": {},
   "outputs": [],
   "source": [
    "statement1 = \"ForAll(x, ((Read(x)) => (~Stupid(x))))\"\n",
    "statement2 = \"Read(John) & Wealthy(John)\"\n",
    "statement3 = \"ForAll(x, ((Poor(x)) => (~Wealthy(x))))\"\n",
    "statement4 = \"ForAll(x, (Stupid(x) | Smart(x)))\"\n",
    "statement5 = \"ForAll(x, ((~Poor(x) & Smart(x)) => (Happy(x))))\"\n",
    "statement6 = \"ForAll(x, ((~Exciting(x)) => (~Happy(x))))\"\n",
    "prove = \"(Exciting(x))\""
   ]
  },
  {
   "cell_type": "markdown",
   "metadata": {},
   "source": [
    "#### Convert to CNF"
   ]
  },
  {
   "cell_type": "code",
   "execution_count": 7,
   "metadata": {},
   "outputs": [
    {
     "name": "stdout",
     "output_type": "stream",
     "text": [
      "(~Read(x) | ~Stupid(x))\n",
      "(Read(John))\n",
      "(Wealthy(John))\n",
      "(~Poor(x) | ~Wealthy(x))\n",
      "(Stupid(x) | Smart(x))\n",
      "(Poor(x) | ~Smart(x) | Happy(x))\n",
      "(Exciting(x) | ~Happy(x))\n"
     ]
    }
   ],
   "source": [
    "x1 = CNFify(statement1)\n",
    "x2 = CNFify(statement2)\n",
    "x3 = CNFify(statement3)\n",
    "x4 = CNFify(statement4)\n",
    "x5 = CNFify(statement5)\n",
    "x6 = CNFify(statement6)\n",
    "out = [x1, x2, x3, x4, x5, x6]\n",
    "kb = []\n",
    "load_print(out, kb)"
   ]
  },
  {
   "cell_type": "markdown",
   "metadata": {},
   "source": [
    "#### Perform resolution"
   ]
  },
  {
   "cell_type": "code",
   "execution_count": 8,
   "metadata": {},
   "outputs": [
    {
     "name": "stdout",
     "output_type": "stream",
     "text": [
      "Pairing:  (~Exciting(x0)) and (Exciting(x7) | ~Happy(x7))\n",
      "Output:       (~Happy(x7))\n",
      "Pairing:  (~Happy(x7)) and (Poor(x6) | ~Smart(x6) | Happy(x6))\n",
      "Output:       (Poor(x6)|~Smart(x6))\n",
      "Pairing:  (Poor(x6)|~Smart(x6)) and (Stupid(x5) | Smart(x5))\n",
      "Output:       (Poor(x5)|Stupid(x5))\n",
      "Pairing:  (Poor(x5)|Stupid(x5)) and (~Read(x1) | ~Stupid(x1))\n",
      "Output:       (Poor(x1)|~Read(x1))\n",
      "Pairing:  (Poor(x1)|~Read(x1)) and (Read(John))\n",
      "Output:       (Poor(John))\n",
      "Pairing:  (Poor(John)) and (~Poor(x4) | ~Wealthy(x4))\n",
      "Output:       (~Wealthy(John))\n",
      "Pairing:  (~Wealthy(John)) and (Wealthy(John))\n",
      "Output:       {}\n",
      "{}\n"
     ]
    }
   ],
   "source": [
    "if resolution(kb, prove, 200):\n",
    "    print('{}')\n",
    "else:\n",
    "    print('cannot decide')"
   ]
  },
  {
   "cell_type": "markdown",
   "metadata": {},
   "source": [
    "#### Q3"
   ]
  },
  {
   "cell_type": "code",
   "execution_count": 9,
   "metadata": {},
   "outputs": [],
   "source": [
    "statement1 = \"ForAll(x, (ForAll(y, ((CScourse(x) & Test(y,x)) => (Exists(z, Fail(z,y)))))))\"\n",
    "statement1 = \"ForAll(x, (ForAll(y, ((CScourse(x)) => (Exists(z, Fail(z,y)))))))\"\n",
    "statement2 = \"ForAll(y, ((Exists(x, (Test(y,x))) & Easy(y)) => (ForAll(z, (Pass(z,y))))))\"\n",
    "statement3 = \"~(Exists(x, Exists(y, (Pass(x,y) & Fail(x,y)))))\"\n",
    "statement4 = \"Test(Exam1,Class1)\"\n",
    "statement5 = \"Easy(Exam1)\"\n",
    "prove = \"(~CScourse(Class1))\""
   ]
  },
  {
   "cell_type": "markdown",
   "metadata": {},
   "source": [
    "#### Convert to CNF"
   ]
  },
  {
   "cell_type": "code",
   "execution_count": 10,
   "metadata": {},
   "outputs": [
    {
     "name": "stdout",
     "output_type": "stream",
     "text": [
      "(~CScourse(x) | Fail(a,y))\n",
      "(~Test(y,x) | ~Easy(y) | Pass(z,y))\n",
      "(~Pass(a,f(a)) | ~Fail(a,f(a)))\n",
      "(Test(Exam1,Class1))\n",
      "(Easy(Exam1))\n"
     ]
    }
   ],
   "source": [
    "x1 = CNFify(statement1)\n",
    "x2 = CNFify(statement2)\n",
    "x3 = CNFify(statement3)\n",
    "x4 = CNFify(statement4)\n",
    "x5 = CNFify(statement5)\n",
    "out = [x1, x2, x3, x4, x5]\n",
    "kb = []\n",
    "load_print(out, kb)"
   ]
  },
  {
   "cell_type": "markdown",
   "metadata": {},
   "source": [
    "#### Perform resolution"
   ]
  },
  {
   "cell_type": "code",
   "execution_count": 11,
   "metadata": {},
   "outputs": [
    {
     "name": "stdout",
     "output_type": "stream",
     "text": [
      "Pairing:  (CScourse(Class1)) and (~CScourse(x1) | Fail(a1,y1))\n",
      "Output:       (Fail(a1,y1))\n",
      "Pairing:  (Fail(a1,y1)) and (~Pass(a3,f(a)3)) | ~Fail(a3,f(a)3)))\n",
      "Output:       (~Pass(a3,y1))\n",
      "Pairing:  (~Pass(a3,y1)) and (~Test(y2,x2) | ~Easy(y2) | Pass(z2,y2))\n",
      "Output:       (~Test(y2,x2)|~Easy(y2))\n",
      "Pairing:  (~Test(y2,x2)|~Easy(y2)) and (Test(Exam1,Class1))\n",
      "Output:       (~Easy(Exam1))\n",
      "Pairing:  (~Easy(Exam1)) and (Easy(Exam1))\n",
      "Output:       {}\n",
      "{}\n"
     ]
    }
   ],
   "source": [
    "if resolution(kb, prove, 20000):\n",
    "    print('{}')\n",
    "else:\n",
    "    print('cannot decide')"
   ]
  }
 ],
 "metadata": {
  "kernelspec": {
   "display_name": "Python 3",
   "language": "python",
   "name": "python3"
  },
  "language_info": {
   "codemirror_mode": {
    "name": "ipython",
    "version": 3
   },
   "file_extension": ".py",
   "mimetype": "text/x-python",
   "name": "python",
   "nbconvert_exporter": "python",
   "pygments_lexer": "ipython3",
   "version": "3.12.1"
  }
 },
 "nbformat": 4,
 "nbformat_minor": 2
}
